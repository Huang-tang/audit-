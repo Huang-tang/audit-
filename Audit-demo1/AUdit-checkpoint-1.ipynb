{
 "cells": [
  {
   "cell_type": "code",
   "execution_count": 4,
   "id": "07a98637-55d8-4008-9487-d0b6565316e0",
   "metadata": {},
   "outputs": [],
   "source": [
    "#模拟数据生成\n",
    "import pandas as pd\n",
    "import numpy as np\n",
    "from datetime import datetime, timedelta\n",
    "\n",
    "# 生成货币资金模拟数据（银行流水）\n",
    "np.random.seed(42)\n",
    "dates = [datetime(2023, 1, 1) + timedelta(days=i) for i in range(100)]\n",
    "bank_data = pd.DataFrame({\n",
    "    \"日期\": np.random.choice(dates, 200),\n",
    "    \"凭证号\": [\"INV\" + str(np.random.randint(1000, 9999)) for _ in range(200)],\n",
    "    \"对方账户\": np.random.choice([\"客户A\", \"客户B\", \"供应商X\", \"个人账户\"], 200),\n",
    "    \"交易类型\": np.random.choice([\"收入\", \"支出\"], 200, p=[0.6, 0.4]),\n",
    "    \"金额\": np.round(np.abs(np.random.normal(50000, 30000, 200)), 2),\n",
    "    \"摘要\": np.random.choice([\"货款\", \"费用报销\", \"工资\", \"其他\"], 200)\n",
    "})\n",
    "\n",
    "# 插入异常数据：重复凭证号和大额交易\n",
    "bank_data.loc[199] = [\"2023-12-31\", \"INV1234\", \"未知账户\", \"支出\", 2000000.00, \"异常大额支出\"]\n",
    "\n",
    "# 生成应收账款模拟数据\n",
    "ar_data = pd.DataFrame({\n",
    "    \"客户名称\": np.random.choice([\"客户A\", \"客户B\", \"客户C\", \"客户D\"], 50),\n",
    "    \"发票日期\": np.random.choice(dates, 50),\n",
    "    \"到期日\": [d + timedelta(days=30) for d in np.random.choice(dates, 50)],\n",
    "    \"金额\": np.round(np.abs(np.random.normal(100000, 50000, 50)), 2),\n",
    "    \"已偿还金额\": lambda x: np.round(x[\"金额\"] * np.random.uniform(0, 0.8, 50), 2),\n",
    "    \"是否逾期\": np.random.choice([True, False], 50, p=[0.2, 0.8])\n",
    "})\n",
    "\n",
    "# 导出为Excel文件\n",
    "with pd.ExcelWriter(\"audit_data.xlsx\") as writer:\n",
    "    bank_data.to_excel(writer, sheet_name=\"银行流水\", index=False)\n",
    "    ar_data.to_excel(writer, sheet_name=\"应收账款\", index=False)"
   ]
  },
  {
   "cell_type": "code",
   "execution_count": 5,
   "id": "56df52d2-fc61-486d-9a67-5be43199af08",
   "metadata": {},
   "outputs": [
    {
     "name": "stdout",
     "output_type": "stream",
     "text": [
      "重复凭证号交易：\n",
      "             日期      凭证号  对方账户 交易类型         金额    摘要\n",
      "35  2023-03-21  INV3327   客户A   收入   39476.32    工资\n",
      "130 2023-02-02  INV3327   客户A   支出   23755.80  费用报销\n",
      "77  2023-04-03  INV4170   客户A   收入   19938.60    工资\n",
      "134 2023-03-29  INV4170   客户A   收入   78977.66    工资\n",
      "42  2023-02-24  INV7287   客户B   支出  121229.88  费用报销\n",
      "69  2023-02-05  INV7287  个人账户   收入   34022.59    其他\n"
     ]
    }
   ],
   "source": [
    "# 货币资金审计自动化\n",
    "#一、数据清洗与预处理\n",
    "#读取银行流水数据\n",
    "bank_df = pd.read_excel(\"audit_data.xlsx\", sheet_name=\"银行流水\")\n",
    "\n",
    "# 数据清洗\n",
    "bank_df[\"日期\"] = pd.to_datetime(bank_df[\"日期\"])  # 统一日期格式\n",
    "bank_df[\"金额\"] = bank_df[\"金额\"].abs()          # 金额取正数\n",
    "\n",
    "# 检查重复凭证号（关键审计程序）\n",
    "duplicate_invoices = bank_df[bank_df.duplicated(\"凭证号\", keep=False)].sort_values(\"凭证号\")\n",
    "print(\"重复凭证号交易：\\n\", duplicate_invoices)"
   ]
  },
  {
   "cell_type": "code",
   "execution_count": 6,
   "id": "683f8829-aceb-45e1-b36c-d68176de5a1e",
   "metadata": {},
   "outputs": [
    {
     "name": "stdout",
     "output_type": "stream",
     "text": [
      "大额交易预警：\n",
      "             日期      凭证号  对方账户         金额\n",
      "199 2023-12-31  INV1234  未知账户  2000000.0\n"
     ]
    }
   ],
   "source": [
    "# 二、大额交易识别\n",
    "# 定义大额阈值（例如：金额 > 3σ）\n",
    "threshold = bank_df[\"金额\"].mean() + 3 * bank_df[\"金额\"].std()\n",
    "large_transactions = bank_df[bank_df[\"金额\"] > threshold]\n",
    "print(\"大额交易预警：\\n\", large_transactions[[\"日期\",\"凭证号\",\"对方账户\",\"金额\"]])"
   ]
  },
  {
   "cell_type": "code",
   "execution_count": 7,
   "id": "2ef25548-3d0b-4e1f-aaf0-3a0fe6d140f4",
   "metadata": {},
   "outputs": [
    {
     "name": "stderr",
     "output_type": "stream",
     "text": [
      "D:\\anaconda3\\Lib\\site-packages\\IPython\\core\\pylabtools.py:170: UserWarning: Glyph 20132 (\\N{CJK UNIFIED IDEOGRAPH-4EA4}) missing from font(s) DejaVu Sans.\n",
      "  fig.canvas.print_figure(bytes_io, **kw)\n",
      "D:\\anaconda3\\Lib\\site-packages\\IPython\\core\\pylabtools.py:170: UserWarning: Glyph 26131 (\\N{CJK UNIFIED IDEOGRAPH-6613}) missing from font(s) DejaVu Sans.\n",
      "  fig.canvas.print_figure(bytes_io, **kw)\n",
      "D:\\anaconda3\\Lib\\site-packages\\IPython\\core\\pylabtools.py:170: UserWarning: Glyph 24635 (\\N{CJK UNIFIED IDEOGRAPH-603B}) missing from font(s) DejaVu Sans.\n",
      "  fig.canvas.print_figure(bytes_io, **kw)\n",
      "D:\\anaconda3\\Lib\\site-packages\\IPython\\core\\pylabtools.py:170: UserWarning: Glyph 39069 (\\N{CJK UNIFIED IDEOGRAPH-989D}) missing from font(s) DejaVu Sans.\n",
      "  fig.canvas.print_figure(bytes_io, **kw)\n",
      "D:\\anaconda3\\Lib\\site-packages\\IPython\\core\\pylabtools.py:170: UserWarning: Glyph 38134 (\\N{CJK UNIFIED IDEOGRAPH-94F6}) missing from font(s) DejaVu Sans.\n",
      "  fig.canvas.print_figure(bytes_io, **kw)\n",
      "D:\\anaconda3\\Lib\\site-packages\\IPython\\core\\pylabtools.py:170: UserWarning: Glyph 34892 (\\N{CJK UNIFIED IDEOGRAPH-884C}) missing from font(s) DejaVu Sans.\n",
      "  fig.canvas.print_figure(bytes_io, **kw)\n",
      "D:\\anaconda3\\Lib\\site-packages\\IPython\\core\\pylabtools.py:170: UserWarning: Glyph 36134 (\\N{CJK UNIFIED IDEOGRAPH-8D26}) missing from font(s) DejaVu Sans.\n",
      "  fig.canvas.print_figure(bytes_io, **kw)\n",
      "D:\\anaconda3\\Lib\\site-packages\\IPython\\core\\pylabtools.py:170: UserWarning: Glyph 25143 (\\N{CJK UNIFIED IDEOGRAPH-6237}) missing from font(s) DejaVu Sans.\n",
      "  fig.canvas.print_figure(bytes_io, **kw)\n",
      "D:\\anaconda3\\Lib\\site-packages\\IPython\\core\\pylabtools.py:170: UserWarning: Glyph 27599 (\\N{CJK UNIFIED IDEOGRAPH-6BCF}) missing from font(s) DejaVu Sans.\n",
      "  fig.canvas.print_figure(bytes_io, **kw)\n",
      "D:\\anaconda3\\Lib\\site-packages\\IPython\\core\\pylabtools.py:170: UserWarning: Glyph 26085 (\\N{CJK UNIFIED IDEOGRAPH-65E5}) missing from font(s) DejaVu Sans.\n",
      "  fig.canvas.print_figure(bytes_io, **kw)\n",
      "D:\\anaconda3\\Lib\\site-packages\\IPython\\core\\pylabtools.py:170: UserWarning: Glyph 36164 (\\N{CJK UNIFIED IDEOGRAPH-8D44}) missing from font(s) DejaVu Sans.\n",
      "  fig.canvas.print_figure(bytes_io, **kw)\n",
      "D:\\anaconda3\\Lib\\site-packages\\IPython\\core\\pylabtools.py:170: UserWarning: Glyph 37329 (\\N{CJK UNIFIED IDEOGRAPH-91D1}) missing from font(s) DejaVu Sans.\n",
      "  fig.canvas.print_figure(bytes_io, **kw)\n",
      "D:\\anaconda3\\Lib\\site-packages\\IPython\\core\\pylabtools.py:170: UserWarning: Glyph 27969 (\\N{CJK UNIFIED IDEOGRAPH-6D41}) missing from font(s) DejaVu Sans.\n",
      "  fig.canvas.print_figure(bytes_io, **kw)\n",
      "D:\\anaconda3\\Lib\\site-packages\\IPython\\core\\pylabtools.py:170: UserWarning: Glyph 21160 (\\N{CJK UNIFIED IDEOGRAPH-52A8}) missing from font(s) DejaVu Sans.\n",
      "  fig.canvas.print_figure(bytes_io, **kw)\n",
      "D:\\anaconda3\\Lib\\site-packages\\IPython\\core\\pylabtools.py:170: UserWarning: Glyph 36235 (\\N{CJK UNIFIED IDEOGRAPH-8D8B}) missing from font(s) DejaVu Sans.\n",
      "  fig.canvas.print_figure(bytes_io, **kw)\n",
      "D:\\anaconda3\\Lib\\site-packages\\IPython\\core\\pylabtools.py:170: UserWarning: Glyph 21183 (\\N{CJK UNIFIED IDEOGRAPH-52BF}) missing from font(s) DejaVu Sans.\n",
      "  fig.canvas.print_figure(bytes_io, **kw)\n",
      "D:\\anaconda3\\Lib\\site-packages\\IPython\\core\\pylabtools.py:170: UserWarning: Glyph 26399 (\\N{CJK UNIFIED IDEOGRAPH-671F}) missing from font(s) DejaVu Sans.\n",
      "  fig.canvas.print_figure(bytes_io, **kw)\n"
     ]
    },
    {
     "data": {
      "image/png": "[encoded data removed]",
      "text/plain": [
       "<Figure size 1200x600 with 1 Axes>"
      ]
     },
     "metadata": {},
     "output_type": "display_data"
    }
   ],
   "source": [
    "# 银行流水波动分析\n",
    "\n",
    "import matplotlib.pyplot as plt\n",
    "\n",
    "# 按日汇总交易金额\n",
    "daily_flow = bank_df.groupby(\"日期\")[\"金额\"].sum().reset_index()\n",
    "\n",
    "# 绘制资金流动趋势图\n",
    "plt.figure(figsize=(12, 6))\n",
    "plt.plot(daily_flow[\"日期\"], daily_flow[\"金额\"], marker='o')\n",
    "plt.title(\"银行账户每日资金流动趋势\")\n",
    "plt.xlabel(\"日期\")\n",
    "plt.ylabel(\"交易总额\")\n",
    "plt.grid(True)\n",
    "plt.show()"
   ]
  },
  {
   "cell_type": "code",
   "execution_count": 8,
   "id": "00d8285d-aafe-4126-a74b-561cb4aa8926",
   "metadata": {},
   "outputs": [
    {
     "name": "stdout",
     "output_type": "stream",
     "text": [
      "应收账款账龄分析：\n",
      "                sum  count\n",
      "账龄区间                     \n",
      "0-30天         0.00      0\n",
      "31-60天        0.00      0\n",
      "61-90天        0.00      0\n",
      "90天以上   5175458.81     50\n"
     ]
    },
    {
     "name": "stderr",
     "output_type": "stream",
     "text": [
      "C:\\Users\\荒糖\\AppData\\Local\\Temp\\ipykernel_2704\\2069159762.py:14: FutureWarning: The default of observed=False is deprecated and will be changed to True in a future version of pandas. Pass observed=False to retain current behavior or observed=True to adopt the future default and silence this warning.\n",
      "  aging_summary = ar_df.groupby(\"账龄区间\")[\"金额\"].agg(['sum', 'count'])\n"
     ]
    }
   ],
   "source": [
    "# 三应收账款审计自动化\n",
    "# 1.账龄分析\n",
    "from datetime import datetime\n",
    "\n",
    "# 计算账龄（截至2023-12-31）\n",
    "cutoff_date = datetime(2023, 12, 31)\n",
    "ar_df = pd.read_excel(\"audit_data.xlsx\", sheet_name=\"应收账款\")\n",
    "ar_df[\"账龄天数\"] = (cutoff_date - ar_df[\"到期日\"]).dt.days\n",
    "ar_df[\"账龄区间\"] = pd.cut(ar_df[\"账龄天数\"], \n",
    "                         bins=[0, 30, 60, 90, np.inf],\n",
    "                         labels=[\"0-30天\", \"31-60天\", \"61-90天\", \"90天以上\"])\n",
    "\n",
    "# 按账龄分类汇总\n",
    "aging_summary = ar_df.groupby(\"账龄区间\")[\"金额\"].agg(['sum', 'count'])\n",
    "print(\"应收账款账龄分析：\\n\", aging_summary)"
   ]
  },
  {
   "cell_type": "code",
   "execution_count": 9,
   "id": "2c6a8ee7-58b0-4658-995a-7db16ebee90e",
   "metadata": {},
   "outputs": [
    {
     "name": "stdout",
     "output_type": "stream",
     "text": [
      "客户集中度风险：\n",
      " 客户名称\n",
      "客户D    26.932734\n",
      "客户C    25.471097\n",
      "客户A    25.385025\n",
      "Name: 金额, dtype: float64\n"
     ]
    }
   ],
   "source": [
    "#2.客户集中度分析\n",
    "# 计算前三大客户占比\n",
    "client_concentration = ar_df.groupby(\"客户名称\")[\"金额\"].sum().nlargest(3)\n",
    "total_receivables = ar_df[\"金额\"].sum()\n",
    "top3_percent = client_concentration / total_receivables * 100\n",
    "print(\"客户集中度风险：\\n\", top3_percent)"
   ]
  },
  {
   "cell_type": "code",
   "execution_count": 10,
   "id": "3bb1ad4e-cb47-4c9d-a07f-97bd22a736c4",
   "metadata": {},
   "outputs": [
    {
     "name": "stdout",
     "output_type": "stream",
     "text": [
      "建议计提坏账准备总额：2,587,729.40元\n"
     ]
    }
   ],
   "source": [
    "# 坏账准备测算\n",
    "# 根据账龄计提比例（假设：0-30天0%，31-60天5%，61-90天20%，90天以上50%）\n",
    "def calculate_provision(row):\n",
    "    if row[\"账龄区间\"] == \"0-30天\":\n",
    "        return 0\n",
    "    elif row[\"账龄区间\"] == \"31-60天\":\n",
    "        return row[\"金额\"] * 0.05\n",
    "    elif row[\"账龄区间\"] == \"61-90天\":\n",
    "        return row[\"金额\"] * 0.20\n",
    "    else:\n",
    "        return row[\"金额\"] * 0.50\n",
    "\n",
    "ar_df[\"坏账准备\"] = ar_df.apply(calculate_provision, axis=1)\n",
    "total_provision = ar_df[\"坏账准备\"].sum()\n",
    "print(f\"建议计提坏账准备总额：{total_provision:,.2f}元\")"
   ]
  },
  {
   "cell_type": "code",
   "execution_count": 11,
   "id": "0a41017c-a665-4700-8230-6d52720cce22",
   "metadata": {},
   "outputs": [
    {
     "ename": "AttributeError",
     "evalue": "'Workbook' object has no attribute 'add_format'",
     "output_type": "error",
     "traceback": [
      "\u001b[1;31m---------------------------------------------------------------------------\u001b[0m",
      "\u001b[1;31mAttributeError\u001b[0m                            Traceback (most recent call last)",
      "Cell \u001b[1;32mIn[11], line 16\u001b[0m\n\u001b[0;32m     14\u001b[0m \u001b[38;5;66;03m# 添加格式（突出显示高风险项）\u001b[39;00m\n\u001b[0;32m     15\u001b[0m workbook \u001b[38;5;241m=\u001b[39m writer\u001b[38;5;241m.\u001b[39mbook\n\u001b[1;32m---> 16\u001b[0m format_red \u001b[38;5;241m=\u001b[39m workbook\u001b[38;5;241m.\u001b[39madd_format({\u001b[38;5;124m\"\u001b[39m\u001b[38;5;124mbg_color\u001b[39m\u001b[38;5;124m\"\u001b[39m: \u001b[38;5;124m\"\u001b[39m\u001b[38;5;124m#FFC7CE\u001b[39m\u001b[38;5;124m\"\u001b[39m})\n\u001b[0;32m     18\u001b[0m sheet \u001b[38;5;241m=\u001b[39m writer\u001b[38;5;241m.\u001b[39msheets[\u001b[38;5;124m\"\u001b[39m\u001b[38;5;124m坏账计提明细\u001b[39m\u001b[38;5;124m\"\u001b[39m]\n\u001b[0;32m     19\u001b[0m sheet\u001b[38;5;241m.\u001b[39mconditional_format(\u001b[38;5;124m'\u001b[39m\u001b[38;5;124mG2:G100\u001b[39m\u001b[38;5;124m'\u001b[39m, {\n\u001b[0;32m     20\u001b[0m     \u001b[38;5;124m'\u001b[39m\u001b[38;5;124mtype\u001b[39m\u001b[38;5;124m'\u001b[39m: \u001b[38;5;124m'\u001b[39m\u001b[38;5;124mcell\u001b[39m\u001b[38;5;124m'\u001b[39m,\n\u001b[0;32m     21\u001b[0m     \u001b[38;5;124m'\u001b[39m\u001b[38;5;124mcriteria\u001b[39m\u001b[38;5;124m'\u001b[39m: \u001b[38;5;124m'\u001b[39m\u001b[38;5;124m>=\u001b[39m\u001b[38;5;124m'\u001b[39m,\n\u001b[0;32m     22\u001b[0m     \u001b[38;5;124m'\u001b[39m\u001b[38;5;124mvalue\u001b[39m\u001b[38;5;124m'\u001b[39m: \u001b[38;5;241m100000\u001b[39m,\n\u001b[0;32m     23\u001b[0m     \u001b[38;5;124m'\u001b[39m\u001b[38;5;124mformat\u001b[39m\u001b[38;5;124m'\u001b[39m: format_red\n\u001b[0;32m     24\u001b[0m })\n",
      "\u001b[1;31mAttributeError\u001b[0m: 'Workbook' object has no attribute 'add_format'"
     ]
    }
   ],
   "source": [
    "# 四 生成审计底稿\n",
    "# 创建审计结果汇总表\n",
    "from pandas.io.formats.style import Styler\n",
    "\n",
    "with pd.ExcelWriter(\"审计底稿输出.xlsx\") as writer:\n",
    "    # 货币资金异常交易\n",
    "    duplicate_invoices.to_excel(writer, sheet_name=\"重复凭证号\", index=False)\n",
    "    large_transactions.to_excel(writer, sheet_name=\"大额交易\", index=False)\n",
    "    \n",
    "    # 应收账款分析\n",
    "    aging_summary.reset_index().to_excel(writer, sheet_name=\"账龄分析\", index=False)\n",
    "    ar_df.to_excel(writer, sheet_name=\"坏账计提明细\", index=False)\n",
    "    \n",
    "    # 添加格式（突出显示高风险项）\n",
    "    workbook = writer.book\n",
    "    format_red = workbook.add_format({\"bg_color\": \"#FFC7CE\"})\n",
    "    \n",
    "    sheet = writer.sheets[\"坏账计提明细\"]\n",
    "    sheet.conditional_format('G2:G100', {\n",
    "        'type': 'cell',\n",
    "        'criteria': '>=',\n",
    "        'value': 100000,\n",
    "        'format': format_red\n",
    "    })"
   ]
  },
  {
   "cell_type": "code",
   "execution_count": 12,
   "id": "4389e009-735e-4a20-9be0-d422868e87de",
   "metadata": {},
   "outputs": [
    {
     "name": "stdout",
     "output_type": "stream",
     "text": [
      "调节后余额差异：-1,335,338.12元\n"
     ]
    }
   ],
   "source": [
    "#五 审计程序扩展建议\n",
    "#1.机器学习\n",
    "# 使用孤立森林检测异常交易\n",
    "from sklearn.ensemble import IsolationForest\n",
    "model = IsolationForest(contamination=0.05)\n",
    "bank_df[\"异常评分\"] = model.fit_predict(bank_df[[\"金额\"]])\n",
    "anomalies = bank_df[bank_df[\"异常评分\"] == -1]\n",
    "#2 自动化对账\n",
    "# 对比企业账面余额与银行对账单\n",
    "book_balance = 15000000  # 假设账面余额\n",
    "bank_statement_balance = bank_df.groupby(\"交易类型\")[\"金额\"].sum()\n",
    "calculated_balance = book_balance + bank_statement_balance.get(\"收入\", 0) - bank_statement_balance.get(\"支出\", 0)\n",
    "print(f\"调节后余额差异：{calculated_balance - book_balance:,.2f}元\")\n"
   ]
  },
  {
   "cell_type": "code",
   "execution_count": 13,
   "id": "232fe61a-cd00-41ee-8b39-fe55874b8f1a",
   "metadata": {},
   "outputs": [
    {
     "name": "stderr",
     "output_type": "stream",
     "text": [
      "D:\\anaconda3\\Lib\\site-packages\\IPython\\core\\pylabtools.py:170: UserWarning: Glyph 39318 (\\N{CJK UNIFIED IDEOGRAPH-9996}) missing from font(s) DejaVu Sans.\n",
      "  fig.canvas.print_figure(bytes_io, **kw)\n",
      "D:\\anaconda3\\Lib\\site-packages\\IPython\\core\\pylabtools.py:170: UserWarning: Glyph 20301 (\\N{CJK UNIFIED IDEOGRAPH-4F4D}) missing from font(s) DejaVu Sans.\n",
      "  fig.canvas.print_figure(bytes_io, **kw)\n",
      "D:\\anaconda3\\Lib\\site-packages\\IPython\\core\\pylabtools.py:170: UserWarning: Glyph 25968 (\\N{CJK UNIFIED IDEOGRAPH-6570}) missing from font(s) DejaVu Sans.\n",
      "  fig.canvas.print_figure(bytes_io, **kw)\n",
      "D:\\anaconda3\\Lib\\site-packages\\IPython\\core\\pylabtools.py:170: UserWarning: Glyph 23383 (\\N{CJK UNIFIED IDEOGRAPH-5B57}) missing from font(s) DejaVu Sans.\n",
      "  fig.canvas.print_figure(bytes_io, **kw)\n",
      "D:\\anaconda3\\Lib\\site-packages\\IPython\\core\\pylabtools.py:170: UserWarning: Glyph 20998 (\\N{CJK UNIFIED IDEOGRAPH-5206}) missing from font(s) DejaVu Sans.\n",
      "  fig.canvas.print_figure(bytes_io, **kw)\n",
      "D:\\anaconda3\\Lib\\site-packages\\IPython\\core\\pylabtools.py:170: UserWarning: Glyph 24067 (\\N{CJK UNIFIED IDEOGRAPH-5E03}) missing from font(s) DejaVu Sans.\n",
      "  fig.canvas.print_figure(bytes_io, **kw)\n",
      "D:\\anaconda3\\Lib\\site-packages\\IPython\\core\\pylabtools.py:170: UserWarning: Glyph 23545 (\\N{CJK UNIFIED IDEOGRAPH-5BF9}) missing from font(s) DejaVu Sans.\n",
      "  fig.canvas.print_figure(bytes_io, **kw)\n",
      "D:\\anaconda3\\Lib\\site-packages\\IPython\\core\\pylabtools.py:170: UserWarning: Glyph 27604 (\\N{CJK UNIFIED IDEOGRAPH-6BD4}) missing from font(s) DejaVu Sans.\n",
      "  fig.canvas.print_figure(bytes_io, **kw)\n",
      "D:\\anaconda3\\Lib\\site-packages\\IPython\\core\\pylabtools.py:170: UserWarning: Glyph 29702 (\\N{CJK UNIFIED IDEOGRAPH-7406}) missing from font(s) DejaVu Sans.\n",
      "  fig.canvas.print_figure(bytes_io, **kw)\n",
      "D:\\anaconda3\\Lib\\site-packages\\IPython\\core\\pylabtools.py:170: UserWarning: Glyph 35770 (\\N{CJK UNIFIED IDEOGRAPH-8BBA}) missing from font(s) DejaVu Sans.\n",
      "  fig.canvas.print_figure(bytes_io, **kw)\n",
      "D:\\anaconda3\\Lib\\site-packages\\IPython\\core\\pylabtools.py:170: UserWarning: Glyph 23454 (\\N{CJK UNIFIED IDEOGRAPH-5B9E}) missing from font(s) DejaVu Sans.\n",
      "  fig.canvas.print_figure(bytes_io, **kw)\n",
      "D:\\anaconda3\\Lib\\site-packages\\IPython\\core\\pylabtools.py:170: UserWarning: Glyph 38469 (\\N{CJK UNIFIED IDEOGRAPH-9645}) missing from font(s) DejaVu Sans.\n",
      "  fig.canvas.print_figure(bytes_io, **kw)\n"
     ]
    },
    {
     "data": {
      "image/png": "[encoded data removed]",
      "text/plain": [
       "<Figure size 640x480 with 1 Axes>"
      ]
     },
     "metadata": {},
     "output_type": "display_data"
    },
    {
     "name": "stdout",
     "output_type": "stream",
     "text": [
      "卡方检验P值: 1.0000\n"
     ]
    }
   ],
   "source": [
    "# 费用报销异常检测Benford定律）\n",
    "import pandas as pd\n",
    "import numpy as np\n",
    "import matplotlib.pyplot as plt\n",
    "\n",
    "# 生成模拟数据（包含正常报销和人为修改的异常数据）\n",
    "np.random.seed(42)\n",
    "normal_amounts = np.round(np.random.lognormal(mean=5, sigma=0.5, size=900), 2)  # 自然生成金额（900笔）\n",
    "fraud_amounts = [700.00, 750.00, 780.00] * 30  # 人为设定以7开头的金额（90笔）\n",
    "all_amounts = np.concatenate([normal_amounts, fraud_amounts])\n",
    "\n",
    "# 计算首位数字分布\n",
    "first_digits = pd.Series(all_amounts).astype(str).str[0].replace({'0':np.nan}).dropna().astype(int)\n",
    "observed = first_digits.value_counts(normalize=True).sort_index()\n",
    "\n",
    "# 本福特定律理论分布\n",
    "benford = np.log10(1 + 1/np.arange(1,10))\n",
    "expected = pd.Series(benford, index=range(1,10))\n",
    "\n",
    "# 可视化对比\n",
    "plt.bar(observed.index, observed, alpha=0.5, label='实际分布')\n",
    "plt.plot(expected.index, expected, 'r-', marker='o', label='Benford理论')\n",
    "plt.title(\"首位数字分布对比\")\n",
    "plt.legend()\n",
    "plt.show()\n",
    "\n",
    "# 卡方检验差异显著性\n",
    "from scipy.stats import chisquare\n",
    "chi_stat, p_value = chisquare(f_obs=observed, f_exp=expected)\n",
    "print(f\"卡方检验P值: {p_value:.4f}\")  # P<0.05说明存在显著异常"
   ]
  },
  {
   "cell_type": "code",
   "execution_count": 14,
   "id": "3c304684-787b-4e70-b8b8-1fc78c4a5344",
   "metadata": {},
   "outputs": [
    {
     "name": "stdout",
     "output_type": "stream",
     "text": [
      "T统计量: -0.13, P值: 0.9009\n",
      "差异在合理范围内。\n"
     ]
    }
   ],
   "source": [
    "# 存货监盘差异分析\n",
    "import pandas as pd\n",
    "from scipy.stats import ttest_rel\n",
    "\n",
    "# 假设有10个存货项目的自盘和监盘数量\n",
    "data = {\n",
    "    'Item': ['A001', 'A002', 'A003', 'A004', 'A005', 'A006', 'A007', 'A008', 'A009', 'A010'],\n",
    "    '自盘数量': [100, 150, 200, 80, 300, 250, 180, 90, 120, 210],\n",
    "    '监盘数量': [98, 148, 202, 79, 305, 248, 182, 91, 118, 208]\n",
    "}\n",
    "df = pd.DataFrame(data)\n",
    "\n",
    "# 计算差异百分比\n",
    "df['差异率'] = (df['监盘数量'] - df['自盘数量']) / df['自盘数量'] * 100\n",
    "\n",
    "# 单样本t检验（假设平均差异为0）\n",
    "t_stat, p_value = ttest_rel(df['监盘数量'], df['自盘数量'])\n",
    "print(f\"T统计量: {t_stat:.2f}, P值: {p_value:.4f}\")\n",
    "\n",
    "# 判断标准（α=0.05）\n",
    "if p_value < 0.05:\n",
    "    print(\"存在显著差异，需扩大监盘范围！\")\n",
    "else:\n",
    "    print(\"差异在合理范围内。\")"
   ]
  },
  {
   "cell_type": "code",
   "execution_count": 15,
   "id": "977689d0-6977-436b-a29c-9aa62de9de96",
   "metadata": {},
   "outputs": [
    {
     "ename": "AttributeError",
     "evalue": "Can only use .dt accessor with datetimelike values",
     "output_type": "error",
     "traceback": [
      "\u001b[1;31m---------------------------------------------------------------------------\u001b[0m",
      "\u001b[1;31mAttributeError\u001b[0m                            Traceback (most recent call last)",
      "Cell \u001b[1;32mIn[15], line 14\u001b[0m\n\u001b[0;32m     11\u001b[0m all_dates \u001b[38;5;241m=\u001b[39m np\u001b[38;5;241m.\u001b[39mconcatenate([normal_dates, fraud_dates])\n\u001b[0;32m     13\u001b[0m \u001b[38;5;66;03m# 提取交易日期中的“月-日”格式（排除年份影响）\u001b[39;00m\n\u001b[1;32m---> 14\u001b[0m transactions \u001b[38;5;241m=\u001b[39m pd\u001b[38;5;241m.\u001b[39mSeries(all_dates)\u001b[38;5;241m.\u001b[39mdt\u001b[38;5;241m.\u001b[39mstrftime(\u001b[38;5;124m'\u001b[39m\u001b[38;5;124m%\u001b[39m\u001b[38;5;124mm-\u001b[39m\u001b[38;5;132;01m%d\u001b[39;00m\u001b[38;5;124m'\u001b[39m)\n\u001b[0;32m     16\u001b[0m \u001b[38;5;66;03m# 计算每日交易频次\u001b[39;00m\n\u001b[0;32m     17\u001b[0m daily_counts \u001b[38;5;241m=\u001b[39m transactions\u001b[38;5;241m.\u001b[39mvalue_counts()\u001b[38;5;241m.\u001b[39msort_index()\n",
      "File \u001b[1;32mD:\\anaconda3\\Lib\\site-packages\\pandas\\core\\generic.py:6299\u001b[0m, in \u001b[0;36mNDFrame.__getattr__\u001b[1;34m(self, name)\u001b[0m\n\u001b[0;32m   6292\u001b[0m \u001b[38;5;28;01mif\u001b[39;00m (\n\u001b[0;32m   6293\u001b[0m     name \u001b[38;5;129;01mnot\u001b[39;00m \u001b[38;5;129;01min\u001b[39;00m \u001b[38;5;28mself\u001b[39m\u001b[38;5;241m.\u001b[39m_internal_names_set\n\u001b[0;32m   6294\u001b[0m     \u001b[38;5;129;01mand\u001b[39;00m name \u001b[38;5;129;01mnot\u001b[39;00m \u001b[38;5;129;01min\u001b[39;00m \u001b[38;5;28mself\u001b[39m\u001b[38;5;241m.\u001b[39m_metadata\n\u001b[0;32m   6295\u001b[0m     \u001b[38;5;129;01mand\u001b[39;00m name \u001b[38;5;129;01mnot\u001b[39;00m \u001b[38;5;129;01min\u001b[39;00m \u001b[38;5;28mself\u001b[39m\u001b[38;5;241m.\u001b[39m_accessors\n\u001b[0;32m   6296\u001b[0m     \u001b[38;5;129;01mand\u001b[39;00m \u001b[38;5;28mself\u001b[39m\u001b[38;5;241m.\u001b[39m_info_axis\u001b[38;5;241m.\u001b[39m_can_hold_identifiers_and_holds_name(name)\n\u001b[0;32m   6297\u001b[0m ):\n\u001b[0;32m   6298\u001b[0m     \u001b[38;5;28;01mreturn\u001b[39;00m \u001b[38;5;28mself\u001b[39m[name]\n\u001b[1;32m-> 6299\u001b[0m \u001b[38;5;28;01mreturn\u001b[39;00m \u001b[38;5;28mobject\u001b[39m\u001b[38;5;241m.\u001b[39m\u001b[38;5;21m__getattribute__\u001b[39m(\u001b[38;5;28mself\u001b[39m, name)\n",
      "File \u001b[1;32mD:\\anaconda3\\Lib\\site-packages\\pandas\\core\\accessor.py:224\u001b[0m, in \u001b[0;36mCachedAccessor.__get__\u001b[1;34m(self, obj, cls)\u001b[0m\n\u001b[0;32m    221\u001b[0m \u001b[38;5;28;01mif\u001b[39;00m obj \u001b[38;5;129;01mis\u001b[39;00m \u001b[38;5;28;01mNone\u001b[39;00m:\n\u001b[0;32m    222\u001b[0m     \u001b[38;5;66;03m# we're accessing the attribute of the class, i.e., Dataset.geo\u001b[39;00m\n\u001b[0;32m    223\u001b[0m     \u001b[38;5;28;01mreturn\u001b[39;00m \u001b[38;5;28mself\u001b[39m\u001b[38;5;241m.\u001b[39m_accessor\n\u001b[1;32m--> 224\u001b[0m accessor_obj \u001b[38;5;241m=\u001b[39m \u001b[38;5;28mself\u001b[39m\u001b[38;5;241m.\u001b[39m_accessor(obj)\n\u001b[0;32m    225\u001b[0m \u001b[38;5;66;03m# Replace the property with the accessor object. Inspired by:\u001b[39;00m\n\u001b[0;32m    226\u001b[0m \u001b[38;5;66;03m# https://www.pydanny.com/cached-property.html\u001b[39;00m\n\u001b[0;32m    227\u001b[0m \u001b[38;5;66;03m# We need to use object.__setattr__ because we overwrite __setattr__ on\u001b[39;00m\n\u001b[0;32m    228\u001b[0m \u001b[38;5;66;03m# NDFrame\u001b[39;00m\n\u001b[0;32m    229\u001b[0m \u001b[38;5;28mobject\u001b[39m\u001b[38;5;241m.\u001b[39m\u001b[38;5;21m__setattr__\u001b[39m(obj, \u001b[38;5;28mself\u001b[39m\u001b[38;5;241m.\u001b[39m_name, accessor_obj)\n",
      "File \u001b[1;32mD:\\anaconda3\\Lib\\site-packages\\pandas\\core\\indexes\\accessors.py:643\u001b[0m, in \u001b[0;36mCombinedDatetimelikeProperties.__new__\u001b[1;34m(cls, data)\u001b[0m\n\u001b[0;32m    640\u001b[0m \u001b[38;5;28;01melif\u001b[39;00m \u001b[38;5;28misinstance\u001b[39m(data\u001b[38;5;241m.\u001b[39mdtype, PeriodDtype):\n\u001b[0;32m    641\u001b[0m     \u001b[38;5;28;01mreturn\u001b[39;00m PeriodProperties(data, orig)\n\u001b[1;32m--> 643\u001b[0m \u001b[38;5;28;01mraise\u001b[39;00m \u001b[38;5;167;01mAttributeError\u001b[39;00m(\u001b[38;5;124m\"\u001b[39m\u001b[38;5;124mCan only use .dt accessor with datetimelike values\u001b[39m\u001b[38;5;124m\"\u001b[39m)\n",
      "\u001b[1;31mAttributeError\u001b[0m: Can only use .dt accessor with datetimelike values"
     ]
    }
   ],
   "source": [
    "# 收入确认截期测试\n",
    "import pandas as pd\n",
    "import numpy as np\n",
    "from scipy.stats import ks_2samp\n",
    "\n",
    "# 生成模拟收入数据（含异常集中在12月31日的交易）\n",
    "dates = pd.date_range('2023-01-01', '2023-12-31', freq='D')\n",
    "np.random.seed(42)\n",
    "normal_dates = np.random.choice(dates[:-1], 200, p=np.ones(len(dates)-1)/(len(dates)-1))  # 正常日期\n",
    "fraud_dates = [pd.Timestamp('2023-12-31')] * 30  # 12月31日异常交易\n",
    "all_dates = np.concatenate([normal_dates, fraud_dates])\n",
    "\n",
    "# 提取交易日期中的“月-日”格式（排除年份影响）\n",
    "transactions = pd.Series(all_dates).dt.strftime('%m-%d')\n",
    "\n",
    "# 计算每日交易频次\n",
    "daily_counts = transactions.value_counts().sort_index()\n",
    "\n",
    "# Kolmogorov-Smirnov检验：比较12月与非12月交易分布\n",
    "dec_dates = [d for d in all_dates if d.month == 12]\n",
    "non_dec_dates = [d for d in all_dates if d.month != 12]\n",
    "stat, p_value = ks_2samp(dec_dates, non_dec_dates)\n",
    "print(f\"KS检验P值: {p_value:.4f}\")\n",
    "\n",
    "# 可视化\n",
    "plt.figure(figsize=(12,4))\n",
    "daily_counts.plot(kind='line')\n",
    "plt.axvline('12-31', color='red', linestyle='--', label='12月31日')\n",
    "plt.title(\"全年每日交易频次分布\")\n",
    "plt.xticks(rotation=90)\n",
    "plt.show()"
   ]
  },
  {
   "cell_type": "code",
   "execution_count": 16,
   "id": "8b197aa2-95fc-43d6-b7fd-1fa456bb10e1",
   "metadata": {},
   "outputs": [
    {
     "ename": "NameError",
     "evalue": "name 'supplers' is not defined",
     "output_type": "error",
     "traceback": [
      "\u001b[1;31m---------------------------------------------------------------------------\u001b[0m",
      "\u001b[1;31mNameError\u001b[0m                                 Traceback (most recent call last)",
      "Cell \u001b[1;32mIn[16], line 18\u001b[0m\n\u001b[0;32m     15\u001b[0m z_scores \u001b[38;5;241m=\u001b[39m (all_days \u001b[38;5;241m-\u001b[39m mean) \u001b[38;5;241m/\u001b[39m std\n\u001b[0;32m     17\u001b[0m \u001b[38;5;66;03m# 标记异常（|Z|>2）\u001b[39;00m\n\u001b[1;32m---> 18\u001b[0m df \u001b[38;5;241m=\u001b[39m pd\u001b[38;5;241m.\u001b[39mDataFrame({\u001b[38;5;124m'\u001b[39m\u001b[38;5;124mSupplier\u001b[39m\u001b[38;5;124m'\u001b[39m: supplers, \u001b[38;5;124m'\u001b[39m\u001b[38;5;124mDays\u001b[39m\u001b[38;5;124m'\u001b[39m: all_days, \u001b[38;5;124m'\u001b[39m\u001b[38;5;124mZ-score\u001b[39m\u001b[38;5;124m'\u001b[39m: z_scores})\n\u001b[0;32m     19\u001b[0m df[\u001b[38;5;124m'\u001b[39m\u001b[38;5;124m异常\u001b[39m\u001b[38;5;124m'\u001b[39m] \u001b[38;5;241m=\u001b[39m np\u001b[38;5;241m.\u001b[39mabs(df[\u001b[38;5;124m'\u001b[39m\u001b[38;5;124mZ-score\u001b[39m\u001b[38;5;124m'\u001b[39m]) \u001b[38;5;241m>\u001b[39m \u001b[38;5;241m2\u001b[39m\n\u001b[0;32m     21\u001b[0m \u001b[38;5;28mprint\u001b[39m(\u001b[38;5;124m\"\u001b[39m\u001b[38;5;124m异常供应商列表：\u001b[39m\u001b[38;5;124m\"\u001b[39m)\n",
      "\u001b[1;31mNameError\u001b[0m: name 'supplers' is not defined"
     ]
    }
   ],
   "source": [
    "# 应付账款周转率异常( S-score标准化\n",
    "import pandas as pd\n",
    "import numpy as np\n",
    "\n",
    "# 模拟供应商付款周期数据（天）\n",
    "np.random.seed(42)\n",
    "normal_days = np.random.normal(loc=60, scale=10, size=50)  # 正常供应商（均值60天）\n",
    "fraud_days = [30, 25, 28, 90, 95]  # 异常供应商（过短或过长）\n",
    "all_days = np.concatenate([normal_days, fraud_days])\n",
    "suppliers = [f\"Sup_{i+1}\" for i in range(len(all_days))]\n",
    "\n",
    "# 计算Z-score\n",
    "mean = np.mean(all_days)\n",
    "std = np.std(all_days)\n",
    "z_scores = (all_days - mean) / std\n",
    "\n",
    "# 标记异常（|Z|>2）\n",
    "df = pd.DataFrame({'Supplier': supplers, 'Days': all_days, 'Z-score': z_scores})\n",
    "df['异常'] = np.abs(df['Z-score']) > 2\n",
    "\n",
    "print(\"异常供应商列表：\")\n",
    "print(df[df['异常']])"
   ]
  },
  {
   "cell_type": "code",
   "execution_count": 17,
   "id": "715eebc6-a706-48c1-b3d7-ed76c25c1599",
   "metadata": {},
   "outputs": [
    {
     "name": "stderr",
     "output_type": "stream",
     "text": [
      "D:\\anaconda3\\Lib\\site-packages\\IPython\\core\\pylabtools.py:170: UserWarning: Glyph 20851 (\\N{CJK UNIFIED IDEOGRAPH-5173}) missing from font(s) DejaVu Sans.\n",
      "  fig.canvas.print_figure(bytes_io, **kw)\n",
      "D:\\anaconda3\\Lib\\site-packages\\IPython\\core\\pylabtools.py:170: UserWarning: Glyph 32852 (\\N{CJK UNIFIED IDEOGRAPH-8054}) missing from font(s) DejaVu Sans.\n",
      "  fig.canvas.print_figure(bytes_io, **kw)\n",
      "D:\\anaconda3\\Lib\\site-packages\\IPython\\core\\pylabtools.py:170: UserWarning: Glyph 22320 (\\N{CJK UNIFIED IDEOGRAPH-5730}) missing from font(s) DejaVu Sans.\n",
      "  fig.canvas.print_figure(bytes_io, **kw)\n",
      "D:\\anaconda3\\Lib\\site-packages\\IPython\\core\\pylabtools.py:170: UserWarning: Glyph 22336 (\\N{CJK UNIFIED IDEOGRAPH-5740}) missing from font(s) DejaVu Sans.\n",
      "  fig.canvas.print_figure(bytes_io, **kw)\n",
      "D:\\anaconda3\\Lib\\site-packages\\IPython\\core\\pylabtools.py:170: UserWarning: Glyph 25968 (\\N{CJK UNIFIED IDEOGRAPH-6570}) missing from font(s) DejaVu Sans.\n",
      "  fig.canvas.print_figure(bytes_io, **kw)\n",
      "D:\\anaconda3\\Lib\\site-packages\\IPython\\core\\pylabtools.py:170: UserWarning: Glyph 23458 (\\N{CJK UNIFIED IDEOGRAPH-5BA2}) missing from font(s) DejaVu Sans.\n",
      "  fig.canvas.print_figure(bytes_io, **kw)\n",
      "D:\\anaconda3\\Lib\\site-packages\\IPython\\core\\pylabtools.py:170: UserWarning: Glyph 25143 (\\N{CJK UNIFIED IDEOGRAPH-6237}) missing from font(s) DejaVu Sans.\n",
      "  fig.canvas.print_figure(bytes_io, **kw)\n",
      "D:\\anaconda3\\Lib\\site-packages\\IPython\\core\\pylabtools.py:170: UserWarning: Glyph 20132 (\\N{CJK UNIFIED IDEOGRAPH-4EA4}) missing from font(s) DejaVu Sans.\n",
      "  fig.canvas.print_figure(bytes_io, **kw)\n",
      "D:\\anaconda3\\Lib\\site-packages\\IPython\\core\\pylabtools.py:170: UserWarning: Glyph 26131 (\\N{CJK UNIFIED IDEOGRAPH-6613}) missing from font(s) DejaVu Sans.\n",
      "  fig.canvas.print_figure(bytes_io, **kw)\n",
      "D:\\anaconda3\\Lib\\site-packages\\IPython\\core\\pylabtools.py:170: UserWarning: Glyph 32858 (\\N{CJK UNIFIED IDEOGRAPH-805A}) missing from font(s) DejaVu Sans.\n",
      "  fig.canvas.print_figure(bytes_io, **kw)\n",
      "D:\\anaconda3\\Lib\\site-packages\\IPython\\core\\pylabtools.py:170: UserWarning: Glyph 31867 (\\N{CJK UNIFIED IDEOGRAPH-7C7B}) missing from font(s) DejaVu Sans.\n",
      "  fig.canvas.print_figure(bytes_io, **kw)\n",
      "D:\\anaconda3\\Lib\\site-packages\\IPython\\core\\pylabtools.py:170: UserWarning: Glyph 20998 (\\N{CJK UNIFIED IDEOGRAPH-5206}) missing from font(s) DejaVu Sans.\n",
      "  fig.canvas.print_figure(bytes_io, **kw)\n",
      "D:\\anaconda3\\Lib\\site-packages\\IPython\\core\\pylabtools.py:170: UserWarning: Glyph 26512 (\\N{CJK UNIFIED IDEOGRAPH-6790}) missing from font(s) DejaVu Sans.\n",
      "  fig.canvas.print_figure(bytes_io, **kw)\n",
      "D:\\anaconda3\\Lib\\site-packages\\IPython\\core\\pylabtools.py:170: UserWarning: Glyph 27425 (\\N{CJK UNIFIED IDEOGRAPH-6B21}) missing from font(s) DejaVu Sans.\n",
      "  fig.canvas.print_figure(bytes_io, **kw)\n"
     ]
    },
    {
     "data": {
      "image/png": "[encoded data removed]",
      "text/plain": [
       "<Figure size 640x480 with 1 Axes>"
      ]
     },
     "metadata": {},
     "output_type": "display_data"
    },
    {
     "name": "stdout",
     "output_type": "stream",
     "text": [
      "独立异常客户：\n",
      " Empty DataFrame\n",
      "Columns: [客户, 交易次数, 关联地址数, Cluster]\n",
      "Index: []\n",
      "\n",
      "异常客户集群：\n",
      "      客户  交易次数  关联地址数  Cluster\n",
      "0    C0     4      2        0\n",
      "1    C1     1      3        0\n",
      "2    C2     6      1        0\n",
      "3    C3     4      3        0\n",
      "4    C4     6      2        0\n",
      "..  ...   ...    ...      ...\n",
      "90  C90     3      3        0\n",
      "91  C91     3      3        0\n",
      "92  C92     5      2        0\n",
      "93  C93     6      3        0\n",
      "94  C94     5      3        0\n",
      "\n",
      "[95 rows x 4 columns]\n"
     ]
    }
   ],
   "source": [
    "# 客户交易关联分析 聚类分析\n",
    "import pandas as pd\n",
    "from sklearn.cluster import DBSCAN\n",
    "import matplotlib.pyplot as plt\n",
    "\n",
    "# 模拟客户交易数据（含异常聚类）\n",
    "data = {\n",
    "    '客户': [f'C{i}' for i in range(100)],\n",
    "    '交易次数': np.random.poisson(lam=5, size=100),  # 正常客户交易次数\n",
    "    '关联地址数': np.random.randint(1, 4, 100),     # 正常客户关联地址数\n",
    "}\n",
    "# 插入异常客户（高频交易+相同地址）\n",
    "data['交易次数'][95:100] = [20, 22, 19, 21, 18]\n",
    "data['关联地址数'][95:100] = [1, 1, 1, 1, 1]\n",
    "\n",
    "df = pd.DataFrame(data)\n",
    "\n",
    "# 聚类分析\n",
    "X = df[['交易次数', '关联地址数']]\n",
    "clustering = DBSCAN(eps=3, min_samples=2).fit(X)\n",
    "df['Cluster'] = clustering.labels_\n",
    "\n",
    "# 可视化\n",
    "plt.scatter(df['交易次数'], df['关联地址数'], c=df['Cluster'], cmap='viridis')\n",
    "plt.xlabel('交易次数')\n",
    "plt.ylabel('关联地址数')\n",
    "plt.title(\"客户交易聚类分析\")\n",
    "plt.show()\n",
    "\n",
    "# 输出异常集群\n",
    "anomaly_clusters = df[df['Cluster'] == -1]  # -1表示噪声点（单独个体）\n",
    "print(\"独立异常客户：\\n\", anomaly_clusters)\n",
    "cluster_0 = df[df['Cluster'] == 0]          # 0号集群（群体异常）\n",
    "print(\"\\n异常客户集群：\\n\", cluster_0)"
   ]
  },
  {
   "cell_type": "code",
   "execution_count": 18,
   "id": "f48f361c-1bc6-4713-b6e4-1af04aa395a8",
   "metadata": {},
   "outputs": [
    {
     "name": "stderr",
     "output_type": "stream",
     "text": [
      "D:\\anaconda3\\Lib\\site-packages\\IPython\\core\\pylabtools.py:170: UserWarning: Glyph 24037 (\\N{CJK UNIFIED IDEOGRAPH-5DE5}) missing from font(s) DejaVu Sans.\n",
      "  fig.canvas.print_figure(bytes_io, **kw)\n",
      "D:\\anaconda3\\Lib\\site-packages\\IPython\\core\\pylabtools.py:170: UserWarning: Glyph 36164 (\\N{CJK UNIFIED IDEOGRAPH-8D44}) missing from font(s) DejaVu Sans.\n",
      "  fig.canvas.print_figure(bytes_io, **kw)\n",
      "D:\\anaconda3\\Lib\\site-packages\\IPython\\core\\pylabtools.py:170: UserWarning: Glyph 20998 (\\N{CJK UNIFIED IDEOGRAPH-5206}) missing from font(s) DejaVu Sans.\n",
      "  fig.canvas.print_figure(bytes_io, **kw)\n",
      "D:\\anaconda3\\Lib\\site-packages\\IPython\\core\\pylabtools.py:170: UserWarning: Glyph 24067 (\\N{CJK UNIFIED IDEOGRAPH-5E03}) missing from font(s) DejaVu Sans.\n",
      "  fig.canvas.print_figure(bytes_io, **kw)\n",
      "D:\\anaconda3\\Lib\\site-packages\\IPython\\core\\pylabtools.py:170: UserWarning: Glyph 31665 (\\N{CJK UNIFIED IDEOGRAPH-7BB1}) missing from font(s) DejaVu Sans.\n",
      "  fig.canvas.print_figure(bytes_io, **kw)\n",
      "D:\\anaconda3\\Lib\\site-packages\\IPython\\core\\pylabtools.py:170: UserWarning: Glyph 32447 (\\N{CJK UNIFIED IDEOGRAPH-7EBF}) missing from font(s) DejaVu Sans.\n",
      "  fig.canvas.print_figure(bytes_io, **kw)\n",
      "D:\\anaconda3\\Lib\\site-packages\\IPython\\core\\pylabtools.py:170: UserWarning: Glyph 22270 (\\N{CJK UNIFIED IDEOGRAPH-56FE}) missing from font(s) DejaVu Sans.\n",
      "  fig.canvas.print_figure(bytes_io, **kw)\n"
     ]
    },
    {
     "data": {
      "image/png": "[encoded data removed]",
      "text/plain": [
       "<Figure size 800x400 with 1 Axes>"
      ]
     },
     "metadata": {},
     "output_type": "display_data"
    },
    {
     "name": "stdout",
     "output_type": "stream",
     "text": [
      "异常工资记录：\n",
      "    Position   Salary  异常工资\n",
      "50     异常高薪  25000.0  True\n",
      "51     异常低薪   4000.0  True\n"
     ]
    }
   ],
   "source": [
    "# 工资薪酬合理性检查  箱线图和分位数分析\n",
    "import pandas as pd\n",
    "import seaborn as sns\n",
    "\n",
    "# 生成模拟工资数据（含异常值）\n",
    "np.random.seed(42)\n",
    "salaries = np.concatenate([\n",
    "    np.random.normal(loc=8000, scale=1000, size=50),  # 普通员工\n",
    "    [25000],  # 异常高薪（高管误计入）\n",
    "    [4000]    # 异常低薪（实习生误计入）\n",
    "])\n",
    "positions = ['普通员工']*50 + ['异常高薪'] + ['异常低薪']\n",
    "\n",
    "df = pd.DataFrame({'Position': positions, 'Salary': salaries})\n",
    "\n",
    "# 箱线图分析\n",
    "plt.figure(figsize=(8,4))\n",
    "sns.boxplot(x=df['Salary'])\n",
    "plt.title(\"工资分布箱线图\")\n",
    "plt.show()\n",
    "\n",
    "# 计算分位数边界\n",
    "Q1 = df['Salary'].quantile(0.25)\n",
    "Q3 = df['Salary'].quantile(0.75)\n",
    "IQR = Q3 - Q1\n",
    "lower_bound = Q1 - 1.5 * IQR\n",
    "upper_bound = Q3 + 1.5 * IQR\n",
    "\n",
    "# 标记异常\n",
    "df['异常工资'] = (df['Salary'] < lower_bound) | (df['Salary'] > upper_bound)\n",
    "print(\"异常工资记录：\\n\", df[df['异常工资']])"
   ]
  },
  {
   "cell_type": "code",
   "execution_count": null,
   "id": "738ddc5f-a572-4812-9d8b-5b237f8f2a8d",
   "metadata": {},
   "outputs": [],
   "source": []
  }
 ],
 "metadata": {
  "kernelspec": {
   "display_name": "Python 3 (ipykernel)",
   "language": "python",
   "name": "python3"
  },
  "language_info": {
   "codemirror_mode": {
    "name": "ipython",
    "version": 3
   },
   "file_extension": ".py",
   "mimetype": "text/x-python",
   "name": "python",
   "nbconvert_exporter": "python",
   "pygments_lexer": "ipython3",
   "version": "3.12.7"
  }
 },
 "nbformat": 4,
 "nbformat_minor": 5
}
